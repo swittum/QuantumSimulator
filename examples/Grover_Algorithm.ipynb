{
 "cells": [
  {
   "cell_type": "code",
   "execution_count": 1,
   "id": "93cff895",
   "metadata": {},
   "outputs": [],
   "source": [
    "from quantum_circuit import QuantumCircuit\n",
    "from quantum_gates import *\n",
    "from grover import Diffuser\n",
    "import numpy as np\n",
    "import matplotlib.pyplot as plt"
   ]
  },
  {
   "cell_type": "code",
   "execution_count": 55,
   "id": "2a230d24",
   "metadata": {},
   "outputs": [
    {
     "data": {
      "text/plain": [
       "(array([  3.,   4., 916.,   3.,   5.,   5.,   7.,   4.,   6.,   7.,   2.,\n",
       "          9.,   6.,   7.,  16.]),\n",
       " array([ 0,  1,  2,  3,  4,  5,  6,  7,  8,  9, 10, 11, 12, 13, 14, 15]),\n",
       " <BarContainer object of 15 artists>)"
      ]
     },
     "execution_count": 55,
     "metadata": {},
     "output_type": "execute_result"
    },
    {
     "data": {
      "image/png": "[encoded data removed]",
      "text/plain": [
       "<Figure size 640x480 with 1 Axes>"
      ]
     },
     "metadata": {},
     "output_type": "display_data"
    }
   ],
   "source": [
    "n_qubits = 4\n",
    "tag = 2\n",
    "\n",
    "N = int(np.pi/(4*np.arcsin(1/np.sqrt(2**n_qubits)))-1/2)\n",
    "\n",
    "qc = QuantumCircuit(n_qubits)\n",
    "for i in range(n_qubits):\n",
    "    qc.add_gate(HadamardGate(n_qubits, i))\n",
    "for _ in range(N):\n",
    "    qc.add_gate(Diffuser(n_qubits, state_label=tag))\n",
    "\n",
    "results = qc.run(register=2**n_qubits, shots=1000)\n",
    "plt.hist(results, bins=np.arange(16))"
   ]
  },
  {
   "cell_type": "code",
   "execution_count": 42,
   "id": "cf70ad0d",
   "metadata": {},
   "outputs": [
    {
     "name": "stdout",
     "output_type": "stream",
     "text": [
      "[ 3  3  3  3  3  3  3  3  3  3  3  3  3  3  3  3  3  3  3  3  3  3  3  3\n",
      "  3  3  3  3  3  3  3  3  3  3  3  3  3  3  3  3  3  3  8  3  3  3  3  3\n",
      "  3  3  3  3  3  3  3  3  3  3  3 14  3  3  3  3  3  3  3  6  3  3  3  3\n",
      "  3  3  3  8  3  3  3  3  3  3  3  3 10  3  3  3  3  3  3  3  3  3  3  3\n",
      "  3  3  3  3  3  3  3  3  3  3  3  3  3  3  3  6  3  3  3  0  3  3  3  8\n",
      "  3  3  3  3  3  3  3  3  3  3  3  3  3  3  3  3  3  4  3 15  3  3  3  3\n",
      "  3 15  3  3  3  3 10  3  3  3 12  3  3  3  3  1  3  3  3  3  3  3  3  3\n",
      "  3  3  3  3  3  3  9  3  3  3 10  3  3  3  3  3  3  3  3  3  3  3  3  3\n",
      "  3  3  3  3  3  3  1  3  3  3  3  3  2  3  3  3  3  3  3  3  3  3 12  3\n",
      "  3  3  3  3  3  3  3  3  3  3  3 14  3  3  3  3 14 11  3  3  3 10  3  3\n",
      "  3  3  3  3  3  3  3  3  3  3  3  3  3  3  3  3  3  3  3  3  3  3  3  3\n",
      "  3  3  3  3  3  3  3  3  7  3  3  3  3  3  3  7  3  3  3  3  3  3  3  3\n",
      "  3 11  3  3  3  3  3  3  3  3  3  3  3  3  3  3  3  3  3  9  3  3  3  3\n",
      "  3  3 13  3  3  3  3  3  3  3  3  3  3  3  3  3  3  3  3  3  3  3  8  3\n",
      "  3  3  3  3  3  3  3  3  3  3  3  3  3  3  3  3  3  3  3  3  3  3  3  3\n",
      " 10  3  3  3  3  3 11  3  3  3  3  3  3  3  3  3  3  3  3  3  3  3  3  3\n",
      "  3  3  3  3  3  2  3  3  3  3 10  5  3  3  5  3  3  3  3  3  3  3  3  3\n",
      "  3  3  9  3  3  3  3  3  3  3  3  5  3  3  3  3  3  3  3  3  3  3  3  3\n",
      "  3  3  3  3  3  3  3  3  3  3  3  3  3  3  3 12  3  3  3  3  3  3  3  3\n",
      "  3  3  3  3  3  3  3  3  3  3  3  3  3  3  3  3  3  3  3  3  3  3  3  3\n",
      "  3  3  1  3  3  3  3  3  3  3  3  9  3  7  3  3  3  3  3  3  3  7  3  3\n",
      "  3  5  3  3  3  3  3  3  3  3  3  3  3  3  3  3  3  3  3  3  3  3  3  5\n",
      "  3  3  3  3  3  3  3  3  3  3  3  3  3  3  3  3  3  3  3  3  3  3  1  3\n",
      "  3  3  3  3  3  3  3  3  3  3  3  3  1  3  3 15  3  3  3  3  3 10  3  3\n",
      "  3  3  3  3  3  3  3  3  3  3  3  3  3  3  3  3  3  3  3  3  3  3  3  3\n",
      "  3  3  3  3  3  3  3  3  3  3  3  3  3  3 14  3  1  3 12  3  3  3  3  3\n",
      "  3  3  3 11  3  3  3  3 12  3  3  3  3  3  3  6  3  3  3  3  3  3  3  3\n",
      "  3  3  3  3  3  3  3  3  3  3  3  3  3  4  3  3  3  3  3  3  3  3  3  3\n",
      "  3  3  3  3  3  3  3  3  3  3  3  3  3  3  3 11  3  3  3  9  3  3  3  3\n",
      "  3  3  3  3  3  3  3  3  3  3  3  3  3  3  3  3  3  3  3  3  3  3  3  3\n",
      "  3  3  3  3 15  3  3  3  3  3  3 15  3  3  3  3  3  3  3  3  3  3  3  3\n",
      "  3  3 11  3  3  3  3  3  3  3  3  3  3  3  3  3  3  3  3  3  3  3  3  3\n",
      "  3  5  3  3  3  3  3  3  3  3  3  3  3  3  3  1  3  3  3  3  3  3  3  3\n",
      "  3  3  3  3  3  3  3  3  3  4  3  3  3  3  3  3  3  3  3  3  3  3  3  3\n",
      "  3  3  5  3  3  3  3  3  6  3  3 12  3  3  3  3  3  3  3  3  3  3  3  3\n",
      "  3  3  3  3  3  3  7  3  3  3  3  3  3  3  3  3  3  3  3  3  3  2  3  3\n",
      "  3  3  3  3  3  3  8  3  3  3  3  3  3  3  3  3  3  5  3  3  3  3  3  3\n",
      "  3  3  3  3  3  3  3  3  3  3  3  3  3  3  3  3  3  3  3  3  3  3  3  3\n",
      "  3  3 15  3  3  3  9  3 15  3  3  3  3 14  3  3  3  3  3  3  3  3  3  3\n",
      "  3  3  3  3  3  3  3  3  3  3  3  3  9  3  3  3  3  3  3  3  3  3  3  3\n",
      "  3  3  3  3  3  7  3  3  4  3 11  3  3  3  3  3  3  3  3  3  3  3  3  3\n",
      "  3  3  3  3  3  3  3  3  3  3  3  2  3  3  3  3]\n"
     ]
    }
   ],
   "source": []
  },
  {
   "cell_type": "code",
   "execution_count": null,
   "id": "dbded851",
   "metadata": {},
   "outputs": [],
   "source": []
  }
 ],
 "metadata": {
  "kernelspec": {
   "display_name": "Python 3 (ipykernel)",
   "language": "python",
   "name": "python3"
  },
  "language_info": {
   "codemirror_mode": {
    "name": "ipython",
    "version": 3
   },
   "file_extension": ".py",
   "mimetype": "text/x-python",
   "name": "python",
   "nbconvert_exporter": "python",
   "pygments_lexer": "ipython3",
   "version": "3.9.13"
  }
 },
 "nbformat": 4,
 "nbformat_minor": 5
}
